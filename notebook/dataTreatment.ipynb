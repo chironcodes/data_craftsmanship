{
 "cells": [
  {
   "cell_type": "code",
   "execution_count": 1,
   "id": "228d9b36-5709-4116-9867-e7b624c1e973",
   "metadata": {},
   "outputs": [],
   "source": [
    "from pyspark.sql import SparkSession\n",
    "from pyspark.sql.types import *\n",
    "from pyspark.storagelevel import StorageLevel\n",
    "from pyspark.sql.functions import col, lower"
   ]
  },
  {
   "cell_type": "code",
   "execution_count": null,
   "id": "bd0be348-cc3a-46d0-8fa8-4461ceff94e0",
   "metadata": {},
   "outputs": [],
   "source": [
    "spark = SparkSession.builder.master('yarn') \\\n",
    "    .config(\"spark.driver.memory\",\"2g\")\\\n",
    "    .config(\"spark.driver.cores\",\"2\")\\\n",
    "    .config(\"spark.executor.memory\", \"2g\")\\\n",
    "    .config(\"spark.executor.cores\", \"2\")\\\n",
    "    .config(\"spark.cores.max\", \"2\")\\\n",
    "    .config(\"spark.jars.packages\", \"org.postgresql:postgresql:42.3.1\")\\\n",
    "    .config('spark.sql.caseSensitive',True) \\\n",
    "    .appName('dataTreatment') \\\n",
    "    .getOrCreate()\n",
    "spark"
   ]
  },
  {
   "cell_type": "markdown",
   "id": "9712e770-1f47-4cad-bc8f-5e211b8b3450",
   "metadata": {},
   "source": [
    "----"
   ]
  },
  {
   "cell_type": "code",
   "execution_count": 4,
   "id": "71be05f6-76d2-4552-ad51-5d2d998f0ab1",
   "metadata": {},
   "outputs": [],
   "source": [
    "def toPostgres(df, table:str):\n",
    "    df.write \\\n",
    "        .format(\"jdbc\") \\\n",
    "        .option(\"url\", f\"jdbc:postgresql://{url}:{port}/{db}\") \\\n",
    "        .option(\"dbtable\", table) \\\n",
    "        .option(\"driver\", \"org.postgresql.Driver\") \\\n",
    "        .option(\"user\", user) \\\n",
    "        .option(\"password\", password) \\\n",
    "        .mode(\"append\") \\\n",
    "        .save()"
   ]
  },
  {
   "cell_type": "code",
   "execution_count": 5,
   "id": "a254e95d-d73e-4d27-a3e6-fdd081409de8",
   "metadata": {},
   "outputs": [],
   "source": [
    "labels = [\n",
    "    ('ano', IntegerType()),\n",
    "    ('trim', IntegerType()),\n",
    "    ('mes', IntegerType()),\n",
    "    ('dataatendimento', StringType()),\n",
    "    ('cod_regiao', IntegerType()),\n",
    "    ('regiao', StringType()),\n",
    "    ('uf', StringType()),\n",
    "    ('cod_tipoatendimento', IntegerType()),\n",
    "    ('descricaotipoatendimento', StringType()),\n",
    "    ('cod_assunto', IntegerType()),\n",
    "    ('descricaoassunto', StringType()),\n",
    "    ('grupoassunto', StringType()),\n",
    "    ('cod_problema', IntegerType()),\n",
    "    ('descricaoproblema', StringType()),\n",
    "    ('grupoproblema', StringType()),\n",
    "    ('sexo', StringType()),\n",
    "    ('faixaetariaconsumidor', StringType()),\n",
    "    ('cepconsumidor', IntegerType())\n",
    "]\n",
    "schema = StructType([StructField (x[0], x[1], True) for x in labels])"
   ]
  },
  {
   "cell_type": "code",
   "execution_count": null,
   "id": "87aedf4e-3441-4787-8317-0ef06fc03cd2",
   "metadata": {
    "tags": []
   },
   "outputs": [],
   "source": [
    "df = spark.read \\\n",
    "    .option(\"recursiveFileLookup\",True) \\\n",
    "    .option(\"header\",True) \\\n",
    "    .option(\"sep\",\",\") \\\n",
    "    .csv(\"/user/hadoop/datalake/reclamacoes/\", schema=schema) \\\n",
    "    #.persist(StorageLevel.MEMORY_ONLY)\n",
    "print(\"Número de linhas no nosso DataFrame -> {} .\".format(df.count()))\n",
    "print(f\"Schema do nosso {type(df)} :\",end='\\n \\n')\n",
    "df.printSchema()"
   ]
  },
  {
   "cell_type": "markdown",
   "id": "239fa6b4-f385-4f03-ab0d-6b2da803f0e0",
   "metadata": {},
   "source": [
    "\n",
    "### - Imprimimos uma amostra do nosso df"
   ]
  },
  {
   "cell_type": "code",
   "execution_count": null,
   "id": "052327f0-c5c1-4723-8c7c-7bfe624771d1",
   "metadata": {},
   "outputs": [],
   "source": [
    "df.sample(0.5).show(3, truncate=False)"
   ]
  },
  {
   "cell_type": "markdown",
   "id": "779320f8-464c-46af-b030-8cb76f8b88be",
   "metadata": {},
   "source": [
    "### - Perceba que dependendo da quantidade de colunas há a quebra da tabela para a próxima linha, uma soluçao seria ->"
   ]
  },
  {
   "cell_type": "code",
   "execution_count": null,
   "id": "36d43773-14a9-41c2-a1a0-f95f155d26b6",
   "metadata": {},
   "outputs": [],
   "source": [
    "df.sample(0.5).show(1, truncate=False, vertical=True)"
   ]
  },
  {
   "cell_type": "markdown",
   "id": "fbb706ea-2e2d-494d-9522-0e0c49d6337a",
   "metadata": {},
   "source": [
    "### - Uma alternativa de exibição é possível no Jupyter usando Spark>=2.4.0 :"
   ]
  },
  {
   "cell_type": "code",
   "execution_count": null,
   "id": "a78375c9-04d4-4b3e-91fe-004b352c9e3c",
   "metadata": {},
   "outputs": [],
   "source": [
    "spark.conf.set(\"spark.sql.repl.eagerEval.enabled\",True) # Ativamos a FLAG\n",
    "spark.conf.set(\"spark.sql.repl.eagerEval.truncate\", '0') # Setamos o limite de caracteres antes de truncar '0' deixa ilimitado\n",
    "#spark.conf.set(\"spark.sql.repl.eagerEval.maxNumRows\", 3) \n",
    "df.limit(3)"
   ]
  },
  {
   "cell_type": "code",
   "execution_count": null,
   "id": "457066a9-1ebc-416b-91f9-19b19cc4b992",
   "metadata": {},
   "outputs": [],
   "source": [
    "# Listamos ano, trimestre e mês das reclamaçoes. Perceba as 'n' maneiras de referenciar uma coluna ou range de colunas(slice)\n",
    "df.select('ano',df['trim'], df[2]).distinct().orderBy(df.columns[0:3], ascending=True).show(3, vertical=False)"
   ]
  },
  {
   "cell_type": "code",
   "execution_count": 26,
   "id": "89a1aea0-0975-46a8-80a9-beb09d44ebb9",
   "metadata": {},
   "outputs": [
    {
     "data": {
      "text/html": [
       "<table border='1'>\n",
       "<tr><th>descricaoassunto</th></tr>\n",
       "<tr><td>Carro Nacional Zero ( Montadora )</td></tr>\n",
       "<tr><td>Carro Usado</td></tr>\n",
       "<tr><td>Consórcio de Automóveis ou Automotores, Utilitários, Caminhonetes</td></tr>\n",
       "<tr><td>Carro Importado</td></tr>\n",
       "<tr><td>Automóvel - Locação / Assistência Automobilística ( Clube do Automóvel, Etc. ) / Auto Escola</td></tr>\n",
       "<tr><td>Oficinas ( Mecânica, Funilaria, Auto-Elétrica, Borracharia )</td></tr>\n",
       "<tr><td>Seguro de Automóvel</td></tr>\n",
       "<tr><td>Combustível Automotivo ( Gasolina, Álcool, Diesel, Gás )</td></tr>\n",
       "</table>\n"
      ],
      "text/plain": [
       "+--------------------------------------------------------------------------------------------+\n",
       "|descricaoassunto                                                                            |\n",
       "+--------------------------------------------------------------------------------------------+\n",
       "|Carro Nacional Zero ( Montadora )                                                           |\n",
       "|Carro Usado                                                                                 |\n",
       "|Consórcio de Automóveis ou Automotores, Utilitários, Caminhonetes                           |\n",
       "|Carro Importado                                                                             |\n",
       "|Automóvel - Locação / Assistência Automobilística ( Clube do Automóvel, Etc. ) / Auto Escola|\n",
       "|Oficinas ( Mecânica, Funilaria, Auto-Elétrica, Borracharia )                                |\n",
       "|Seguro de Automóvel                                                                         |\n",
       "|Combustível Automotivo ( Gasolina, Álcool, Diesel, Gás )                                    |\n",
       "+--------------------------------------------------------------------------------------------+"
      ]
     },
     "execution_count": 26,
     "metadata": {},
     "output_type": "execute_result"
    }
   ],
   "source": [
    "# Como o área da manufatura é bastante ampla, focaremos na industria que tenha relação com 'carros/auto'. Observamos aqui os assuntos relacionados\n",
    "df.filter((lower(col('descricaoassunto')).like(\"%carr%\")) | (lower(col('descricaoassunto')).like(\"%auto%\"))).select(\"descricaoassunto\").distinct()"
   ]
  },
  {
   "cell_type": "code",
   "execution_count": null,
   "id": "5845d53d-76da-4cd7-96c7-c32cbd37609b",
   "metadata": {},
   "outputs": [],
   "source": [
    "# Dentro das nossas milhares de reclamação vamos filtar apenas as reclamações relacionadas a carro/auto como nosso nicho\n",
    "df = df.filter((lower(col('descricaoassunto')).like(\"%carr%\")) | (lower(col('descricaoassunto')).like(\"%auto%\")))\n",
    "print(\"Número de linhas no nosso DataFrame -> {} .\".format(df.count()))\n",
    "df.printSchema()"
   ]
  },
  {
   "cell_type": "code",
   "execution_count": null,
   "id": "fab55f6a-4a27-48fa-bd9c-ac2286b99645",
   "metadata": {},
   "outputs": [],
   "source": [
    "# Exportamos nosso dado para o nosso DataWarehouse PG\n",
    "toPostgres(df,'reclamacao')"
   ]
  }
 ],
 "metadata": {
  "kernelspec": {
   "display_name": "Python 3 (ipykernel)",
   "language": "python",
   "name": "python3"
  },
  "language_info": {
   "codemirror_mode": {
    "name": "ipython",
    "version": 3
   },
   "file_extension": ".py",
   "mimetype": "text/x-python",
   "name": "python",
   "nbconvert_exporter": "python",
   "pygments_lexer": "ipython3",
   "version": "3.8.13"
  }
 },
 "nbformat": 4,
 "nbformat_minor": 5
}

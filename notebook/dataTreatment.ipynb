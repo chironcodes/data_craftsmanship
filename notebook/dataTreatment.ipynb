{
 "cells": [
  {
   "cell_type": "code",
   "execution_count": 1,
   "id": "228d9b36-5709-4116-9867-e7b624c1e973",
   "metadata": {},
   "outputs": [],
   "source": [
    "from pyspark.sql import SparkSession\n",
    "from pyspark.sql.types import *\n",
    "from pyspark.storagelevel import StorageLevel\n",
    "from pyspark.sql.functions import col, lower"
   ]
  },
  {
   "cell_type": "code",
   "execution_count": 2,
   "id": "bd0be348-cc3a-46d0-8fa8-4461ceff94e0",
   "metadata": {},
   "outputs": [
    {
     "name": "stderr",
     "output_type": "stream",
     "text": [
      "/home/hadoop/notebook/jupyter/lib64/python3.6/site-packages/pyspark/context.py:238: FutureWarning: Python 3.6 support is deprecated in Spark 3.2.\n",
      "  FutureWarning\n"
     ]
    },
    {
     "data": {
      "text/html": [
       "\n",
       "            <div>\n",
       "                <p><b>SparkSession - in-memory</b></p>\n",
       "                \n",
       "        <div>\n",
       "            <p><b>SparkContext</b></p>\n",
       "\n",
       "            <p><a href=\"http://hdpmaster:4040\">Spark UI</a></p>\n",
       "\n",
       "            <dl>\n",
       "              <dt>Version</dt>\n",
       "                <dd><code>v3.2.1</code></dd>\n",
       "              <dt>Master</dt>\n",
       "                <dd><code>yarn</code></dd>\n",
       "              <dt>AppName</dt>\n",
       "                <dd><code>dataTreatment</code></dd>\n",
       "            </dl>\n",
       "        </div>\n",
       "        \n",
       "            </div>\n",
       "        "
      ],
      "text/plain": [
       "<pyspark.sql.session.SparkSession at 0x7f54a109a860>"
      ]
     },
     "execution_count": 2,
     "metadata": {},
     "output_type": "execute_result"
    }
   ],
   "source": [
    "spark = SparkSession.builder.master('yarn') \\\n",
    "    .config(\"spark.jars.packages\", \"org.postgresql:postgresql:42.3.1\")\\\n",
    "    .config('spark.sql.caseSensitive',True) \\\n",
    "    .appName('dataTreatment') \\\n",
    "    .getOrCreate()\n",
    "spark"
   ]
  },
  {
   "cell_type": "markdown",
   "id": "9712e770-1f47-4cad-bc8f-5e211b8b3450",
   "metadata": {},
   "source": [
    "----"
   ]
  },
  {
   "cell_type": "code",
   "execution_count": 3,
   "id": "71be05f6-76d2-4552-ad51-5d2d998f0ab1",
   "metadata": {},
   "outputs": [],
   "source": [
    "def toOracle(df, table:str):\n",
    "    df.write \\\n",
    "        .format(\"jdbc\") \\\n",
    "        .option(\"url\", f\"jdbc:postgresql://{url}:{port}/{db}\") \\\n",
    "        .option(\"dbtable\", table) \\\n",
    "        .option(\"driver\", \"org.postgresql.Driver\") \\\n",
    "        .option(\"user\", user) \\\n",
    "        .option(\"password\", password) \\\n",
    "        .mode(\"append\") \\\n",
    "        .save()"
   ]
  },
  {
   "cell_type": "code",
   "execution_count": 4,
   "id": "a254e95d-d73e-4d27-a3e6-fdd081409de8",
   "metadata": {},
   "outputs": [],
   "source": [
    "labels = [\n",
    "    ('ano', IntegerType()),\n",
    "    ('trim', IntegerType()),\n",
    "    ('mes', IntegerType()),\n",
    "    ('dataatendimento', StringType()),\n",
    "    ('cod_regiao', IntegerType()),\n",
    "    ('regiao', StringType()),\n",
    "    ('uf', StringType()),\n",
    "    ('cod_tipoatendimento', IntegerType()),\n",
    "    ('descricaotipoatendimento', StringType()),\n",
    "    ('cod_assunto', IntegerType()),\n",
    "    ('descricaoassunto', StringType()),\n",
    "    ('grupoassunto', StringType()),\n",
    "    ('cod_problema', IntegerType()),\n",
    "    ('descricaoproblema', StringType()),\n",
    "    ('grupoproblema', StringType()),\n",
    "    ('sexo', StringType()),\n",
    "    ('faixaetariaconsumidor', StringType()),\n",
    "    ('cepconsumidor', IntegerType())\n",
    "]\n",
    "schema = StructType([StructField (x[0], x[1], True) for x in labels])"
   ]
  },
  {
   "cell_type": "code",
   "execution_count": 5,
   "id": "87aedf4e-3441-4787-8317-0ef06fc03cd2",
   "metadata": {},
   "outputs": [
    {
     "name": "stdout",
     "output_type": "stream",
     "text": [
      "Número de linhas no nosso DataFrame -> 6089960 .\n",
      "Schema do nosso <class 'pyspark.sql.dataframe.DataFrame'> :\n",
      " \n",
      "root\n",
      " |-- ano: integer (nullable = true)\n",
      " |-- trim: integer (nullable = true)\n",
      " |-- mes: integer (nullable = true)\n",
      " |-- dataatendimento: string (nullable = true)\n",
      " |-- cod_regiao: integer (nullable = true)\n",
      " |-- regiao: string (nullable = true)\n",
      " |-- uf: string (nullable = true)\n",
      " |-- cod_tipoatendimento: integer (nullable = true)\n",
      " |-- descricaotipoatendimento: string (nullable = true)\n",
      " |-- cod_assunto: integer (nullable = true)\n",
      " |-- descricaoassunto: string (nullable = true)\n",
      " |-- grupoassunto: string (nullable = true)\n",
      " |-- cod_problema: integer (nullable = true)\n",
      " |-- descricaoproblema: string (nullable = true)\n",
      " |-- grupoproblema: string (nullable = true)\n",
      " |-- sexo: string (nullable = true)\n",
      " |-- faixaetariaconsumidor: string (nullable = true)\n",
      " |-- cepconsumidor: integer (nullable = true)\n",
      "\n"
     ]
    }
   ],
   "source": [
    "df = spark.read \\\n",
    "    .option(\"recursiveFileLookup\",True) \\\n",
    "    .option(\"header\",True) \\\n",
    "    .option(\"sep\",\",\") \\\n",
    "    .csv(\"/user/hadoop/datalake/reclamacoes/\", schema=schema) \\\n",
    "    .persist(StorageLevel.MEMORY_ONLY)\n",
    "print(\"Número de linhas no nosso DataFrame -> {} .\".format(df.count()))\n",
    "print(f\"Schema do nosso {type(df)} :\",end='\\n \\n')\n",
    "df.printSchema()"
   ]
  },
  {
   "cell_type": "markdown",
   "id": "239fa6b4-f385-4f03-ab0d-6b2da803f0e0",
   "metadata": {},
   "source": [
    "\n",
    "### - Imprimimos uma amostra do nosso df"
   ]
  },
  {
   "cell_type": "code",
   "execution_count": 7,
   "id": "052327f0-c5c1-4723-8c7c-7bfe624771d1",
   "metadata": {},
   "outputs": [
    {
     "name": "stdout",
     "output_type": "stream",
     "text": [
      "+----+----+---+-----------------------+----------+-------+---+-------------------+---------------------------------------+-----------+-------------------------+-------------------------------+------------+------------------------------------------------------------------------------------+----------------------+----+---------------------+-------------+\n",
      "|ano |trim|mes|dataatendimento        |cod_regiao|regiao |uf |cod_tipoatendimento|descricaotipoatendimento               |cod_assunto|descricaoassunto         |grupoassunto                   |cod_problema|descricaoproblema                                                                   |grupoproblema         |sexo|faixaetariaconsumidor|cepconsumidor|\n",
      "+----+----+---+-----------------------+----------+-------+---+-------------------+---------------------------------------+-----------+-------------------------+-------------------------------+------------+------------------------------------------------------------------------------------+----------------------+----+---------------------+-------------+\n",
      "|2019|1   |1  |2019-01-25 15:57:31.000|3         |Sudeste|ES |3                  |CIP (Carta de Informações Preliminares)|76         |Outros Contratos         |Contratos Financeiros Diversos*|1112        |Contrato (não cumprimento, alteração, transferencia, irregularidade, rescisão, etc.)|Problemas com Contrato|M   |entre 21 a 30 anos   |29158038     |\n",
      "|2019|1   |1  |2019-01-25 15:42:34.000|3         |Sudeste|ES |2                  |Simples Consulta                       |58         |Consórcio de Motocicletas|Consórcios                     |1094        |Contrato (não cumprimento, alteração, transferencia, irregularidade, rescisão, etc.)|Problemas com Contrato|M   |entre 31 a 40 anos   |29135000     |\n",
      "|2019|1   |1  |2019-01-25 15:41:50.000|3         |Sudeste|ES |6                  |Atendimento Preliminar                 |187        |Telefonia Celular        |Telefonia Celular              |3680        |Recusa injustificada em prestar serviço                                             |Problemas com Contrato|M   |Nao Informada        |29151815     |\n",
      "+----+----+---+-----------------------+----------+-------+---+-------------------+---------------------------------------+-----------+-------------------------+-------------------------------+------------+------------------------------------------------------------------------------------+----------------------+----+---------------------+-------------+\n",
      "only showing top 3 rows\n",
      "\n"
     ]
    }
   ],
   "source": [
    "df.sample(0.5).show(3, truncate=False)"
   ]
  },
  {
   "cell_type": "markdown",
   "id": "779320f8-464c-46af-b030-8cb76f8b88be",
   "metadata": {},
   "source": [
    "### - Perceba que dependendo da quantidade de colunas há a quebra da tabela para a próxima linha, uma soluçao seria ->"
   ]
  },
  {
   "cell_type": "code",
   "execution_count": 8,
   "id": "36d43773-14a9-41c2-a1a0-f95f155d26b6",
   "metadata": {},
   "outputs": [
    {
     "name": "stdout",
     "output_type": "stream",
     "text": [
      "-RECORD 0-----------------------------------------------------------\n",
      " ano                      | 2019                                    \n",
      " trim                     | 1                                       \n",
      " mes                      | 1                                       \n",
      " dataatendimento          | 2019-01-25 15:41:50.000                 \n",
      " cod_regiao               | 3                                       \n",
      " regiao                   | Sudeste                                 \n",
      " uf                       | ES                                      \n",
      " cod_tipoatendimento      | 6                                       \n",
      " descricaotipoatendimento | Atendimento Preliminar                  \n",
      " cod_assunto              | 187                                     \n",
      " descricaoassunto         | Telefonia Celular                       \n",
      " grupoassunto             | Telefonia Celular                       \n",
      " cod_problema             | 3680                                    \n",
      " descricaoproblema        | Recusa injustificada em prestar serviço \n",
      " grupoproblema            | Problemas com Contrato                  \n",
      " sexo                     | M                                       \n",
      " faixaetariaconsumidor    | Nao Informada                           \n",
      " cepconsumidor            | 29151815                                \n",
      "only showing top 1 row\n",
      "\n"
     ]
    }
   ],
   "source": [
    "df.sample(0.5).show(1, truncate=False, vertical=True)"
   ]
  },
  {
   "cell_type": "markdown",
   "id": "fbb706ea-2e2d-494d-9522-0e0c49d6337a",
   "metadata": {},
   "source": [
    "### - Uma alternativa de exibição é possível no Jupyter usando Spark>=2.4.0 :"
   ]
  },
  {
   "cell_type": "code",
   "execution_count": 9,
   "id": "a78375c9-04d4-4b3e-91fe-004b352c9e3c",
   "metadata": {},
   "outputs": [
    {
     "data": {
      "text/html": [
       "<table border='1'>\n",
       "<tr><th>ano</th><th>trim</th><th>mes</th><th>dataatendimento</th><th>cod_regiao</th><th>regiao</th><th>uf</th><th>cod_tipoatendimento</th><th>descricaotipoatendimento</th><th>cod_assunto</th><th>descricaoassunto</th><th>grupoassunto</th><th>cod_problema</th><th>descricaoproblema</th><th>grupoproblema</th><th>sexo</th><th>faixaetariaconsumidor</th><th>cepconsumidor</th></tr>\n",
       "<tr><td>2019</td><td>1</td><td>1</td><td>2019-01-25 15:58:33.000</td><td>3</td><td>Sudeste</td><td>ES</td><td>2</td><td>Simples Consulta</td><td>63</td><td>Financeira</td><td>Financeira</td><td>1099</td><td>Contrato (não cumprimento, alteração, transferencia, irregularidade, rescisão, etc.)</td><td>Problemas com Contrato</td><td>F</td><td>mais de 70 anos</td><td>29172500</td></tr>\n",
       "<tr><td>2019</td><td>1</td><td>1</td><td>2019-01-25 15:57:31.000</td><td>3</td><td>Sudeste</td><td>ES</td><td>3</td><td>CIP (Carta de Informações Preliminares)</td><td>76</td><td>Outros Contratos</td><td>Contratos Financeiros Diversos*</td><td>1112</td><td>Contrato (não cumprimento, alteração, transferencia, irregularidade, rescisão, etc.)</td><td>Problemas com Contrato</td><td>M</td><td>entre 21 a 30 anos</td><td>29158038</td></tr>\n",
       "<tr><td>2019</td><td>1</td><td>1</td><td>2019-01-25 15:42:34.000</td><td>3</td><td>Sudeste</td><td>ES</td><td>2</td><td>Simples Consulta</td><td>58</td><td>Consórcio de Motocicletas</td><td>Consórcios</td><td>1094</td><td>Contrato (não cumprimento, alteração, transferencia, irregularidade, rescisão, etc.)</td><td>Problemas com Contrato</td><td>M</td><td>entre 31 a 40 anos</td><td>29135000</td></tr>\n",
       "</table>\n"
      ],
      "text/plain": [
       "+----+----+---+-----------------------+----------+-------+---+-------------------+---------------------------------------+-----------+-------------------------+-------------------------------+------------+------------------------------------------------------------------------------------+----------------------+----+---------------------+-------------+\n",
       "|ano |trim|mes|dataatendimento        |cod_regiao|regiao |uf |cod_tipoatendimento|descricaotipoatendimento               |cod_assunto|descricaoassunto         |grupoassunto                   |cod_problema|descricaoproblema                                                                   |grupoproblema         |sexo|faixaetariaconsumidor|cepconsumidor|\n",
       "+----+----+---+-----------------------+----------+-------+---+-------------------+---------------------------------------+-----------+-------------------------+-------------------------------+------------+------------------------------------------------------------------------------------+----------------------+----+---------------------+-------------+\n",
       "|2019|1   |1  |2019-01-25 15:58:33.000|3         |Sudeste|ES |2                  |Simples Consulta                       |63         |Financeira               |Financeira                     |1099        |Contrato (não cumprimento, alteração, transferencia, irregularidade, rescisão, etc.)|Problemas com Contrato|F   |mais de 70 anos      |29172500     |\n",
       "|2019|1   |1  |2019-01-25 15:57:31.000|3         |Sudeste|ES |3                  |CIP (Carta de Informações Preliminares)|76         |Outros Contratos         |Contratos Financeiros Diversos*|1112        |Contrato (não cumprimento, alteração, transferencia, irregularidade, rescisão, etc.)|Problemas com Contrato|M   |entre 21 a 30 anos   |29158038     |\n",
       "|2019|1   |1  |2019-01-25 15:42:34.000|3         |Sudeste|ES |2                  |Simples Consulta                       |58         |Consórcio de Motocicletas|Consórcios                     |1094        |Contrato (não cumprimento, alteração, transferencia, irregularidade, rescisão, etc.)|Problemas com Contrato|M   |entre 31 a 40 anos   |29135000     |\n",
       "+----+----+---+-----------------------+----------+-------+---+-------------------+---------------------------------------+-----------+-------------------------+-------------------------------+------------+------------------------------------------------------------------------------------+----------------------+----+---------------------+-------------+"
      ]
     },
     "execution_count": 9,
     "metadata": {},
     "output_type": "execute_result"
    }
   ],
   "source": [
    "spark.conf.set(\"spark.sql.repl.eagerEval.enabled\",True) # Ativamos a FLAG\n",
    "spark.conf.set(\"spark.sql.repl.eagerEval.truncate\", '0') # Setamos o limite de caracteres antes de truncar '0' deixa ilimitado\n",
    "#spark.conf.set(\"spark.sql.repl.eagerEval.maxNumRows\", 3) \n",
    "df.limit(3)"
   ]
  },
  {
   "cell_type": "code",
   "execution_count": 13,
   "id": "457066a9-1ebc-416b-91f9-19b19cc4b992",
   "metadata": {},
   "outputs": [
    {
     "name": "stdout",
     "output_type": "stream",
     "text": [
      "+----+----+---+\n",
      "| ano|trim|mes|\n",
      "+----+----+---+\n",
      "|2019|   1|  1|\n",
      "|2019|   1|  2|\n",
      "|2019|   1|  3|\n",
      "+----+----+---+\n",
      "only showing top 3 rows\n",
      "\n"
     ]
    }
   ],
   "source": [
    "# Listamos ano, trimestre e mês das reclamaçoes. Perceba as 'n' maneiras de referenciar uma coluna ou range de colunas(slice)\n",
    "df.select('ano',df['trim'], df[2]).distinct().orderBy(df.columns[0:3], ascending=True).show(3, vertical=False)"
   ]
  },
  {
   "cell_type": "code",
   "execution_count": 26,
   "id": "89a1aea0-0975-46a8-80a9-beb09d44ebb9",
   "metadata": {},
   "outputs": [
    {
     "data": {
      "text/html": [
       "<table border='1'>\n",
       "<tr><th>descricaoassunto</th></tr>\n",
       "<tr><td>Carro Nacional Zero ( Montadora )</td></tr>\n",
       "<tr><td>Carro Usado</td></tr>\n",
       "<tr><td>Consórcio de Automóveis ou Automotores, Utilitários, Caminhonetes</td></tr>\n",
       "<tr><td>Carro Importado</td></tr>\n",
       "<tr><td>Automóvel - Locação / Assistência Automobilística ( Clube do Automóvel, Etc. ) / Auto Escola</td></tr>\n",
       "<tr><td>Oficinas ( Mecânica, Funilaria, Auto-Elétrica, Borracharia )</td></tr>\n",
       "<tr><td>Seguro de Automóvel</td></tr>\n",
       "<tr><td>Combustível Automotivo ( Gasolina, Álcool, Diesel, Gás )</td></tr>\n",
       "</table>\n"
      ],
      "text/plain": [
       "+--------------------------------------------------------------------------------------------+\n",
       "|descricaoassunto                                                                            |\n",
       "+--------------------------------------------------------------------------------------------+\n",
       "|Carro Nacional Zero ( Montadora )                                                           |\n",
       "|Carro Usado                                                                                 |\n",
       "|Consórcio de Automóveis ou Automotores, Utilitários, Caminhonetes                           |\n",
       "|Carro Importado                                                                             |\n",
       "|Automóvel - Locação / Assistência Automobilística ( Clube do Automóvel, Etc. ) / Auto Escola|\n",
       "|Oficinas ( Mecânica, Funilaria, Auto-Elétrica, Borracharia )                                |\n",
       "|Seguro de Automóvel                                                                         |\n",
       "|Combustível Automotivo ( Gasolina, Álcool, Diesel, Gás )                                    |\n",
       "+--------------------------------------------------------------------------------------------+"
      ]
     },
     "execution_count": 26,
     "metadata": {},
     "output_type": "execute_result"
    }
   ],
   "source": [
    "df.filter((lower(col('descricaoassunto')).like(\"%carr%\")) | (lower(col('descricaoassunto')).like(\"%auto%\"))).select(\"descricaoassunto\").distinct()"
   ]
  }
 ],
 "metadata": {
  "kernelspec": {
   "display_name": "Python 3",
   "language": "python",
   "name": "python3"
  },
  "language_info": {
   "codemirror_mode": {
    "name": "ipython",
    "version": 3
   },
   "file_extension": ".py",
   "mimetype": "text/x-python",
   "name": "python",
   "nbconvert_exporter": "python",
   "pygments_lexer": "ipython3",
   "version": "3.6.8"
  }
 },
 "nbformat": 4,
 "nbformat_minor": 5
}

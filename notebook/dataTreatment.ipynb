{
 "cells": [
  {
   "cell_type": "code",
   "execution_count": 2,
   "id": "57c363e4-fd56-41c8-a948-75f17662f1d9",
   "metadata": {},
   "outputs": [],
   "source": [
    "from pyspark.sql import SparkSession"
   ]
  },
  {
   "cell_type": "code",
   "execution_count": 5,
   "id": "bc771602-f707-4418-ab36-7b8f005f5a16",
   "metadata": {},
   "outputs": [
    {
     "data": {
      "text/html": [
       "\n",
       "            <div>\n",
       "                <p><b>SparkSession - in-memory</b></p>\n",
       "                \n",
       "        <div>\n",
       "            <p><b>SparkContext</b></p>\n",
       "\n",
       "            <p><a href=\"http://192.168.1.12:4040\">Spark UI</a></p>\n",
       "\n",
       "            <dl>\n",
       "              <dt>Version</dt>\n",
       "                <dd><code>v3.2.1</code></dd>\n",
       "              <dt>Master</dt>\n",
       "                <dd><code>yarn</code></dd>\n",
       "              <dt>AppName</dt>\n",
       "                <dd><code>dataTreatment</code></dd>\n",
       "            </dl>\n",
       "        </div>\n",
       "        \n",
       "            </div>\n",
       "        "
      ],
      "text/plain": [
       "<pyspark.sql.session.SparkSession at 0x7f0d182dbf70>"
      ]
     },
     "execution_count": 5,
     "metadata": {},
     "output_type": "execute_result"
    }
   ],
   "source": [
    "spark = SparkSession.builder.master('yarn') \\\n",
    "    .config(\"spark.jars.packages\", \"org.postgresql:postgresql:42.3.1\")\\\n",
    "    .config('spark.sql.caseSensitive',True) \\\n",
    "    .config('spark.sql.repl.eagerEval.enabled',True) \\\n",
    "    .appName('dataTreatment') \\\n",
    "    .getOrCreate()\n",
    "spark"
   ]
  },
  {
   "cell_type": "code",
   "execution_count": 4,
   "id": "85eb030f-8fa5-4d83-8ef2-1c0aad372932",
   "metadata": {},
   "outputs": [
    {
     "name": "stderr",
     "output_type": "stream",
     "text": [
      "                                                                                \r"
     ]
    },
    {
     "name": "stdout",
     "output_type": "stream",
     "text": [
      "+--------------+--------------------+--------------+-----------------------+------------+-------+---+---------------------+---------------------------------------+-------------+-------------------------+-------------------------------+--------------+------------------------------------------------------------------------------------+----------------------+--------------+---------------------+-------------+\n",
      "|AnoAtendimento|TrimestreAtendimento|MesAtendimento|DataAtendimento        |CodigoRegiao|Regiao |UF |CodigoTipoAtendimento|DescricaoTipoAtendimento               |CodigoAssunto|DescricaoAssunto         |GrupoAssunto                   |CodigoProblema|DescricaoProblema                                                                   |GrupoProblema         |SexoConsumidor|FaixaEtariaConsumidor|CEPConsumidor|\n",
      "+--------------+--------------------+--------------+-----------------------+------------+-------+---+---------------------+---------------------------------------+-------------+-------------------------+-------------------------------+--------------+------------------------------------------------------------------------------------+----------------------+--------------+---------------------+-------------+\n",
      "|2019          |1                   |1             |2019-01-25 15:58:33.000|3           |Sudeste|ES |2                    |Simples Consulta                       |63           |Financeira               |Financeira                     |1099          |Contrato (não cumprimento, alteração, transferencia, irregularidade, rescisão, etc.)|Problemas com Contrato|F             |mais de 70 anos      |29172500     |\n",
      "|2019          |1                   |1             |2019-01-25 15:57:31.000|3           |Sudeste|ES |3                    |CIP (Carta de Informações Preliminares)|76           |Outros Contratos         |Contratos Financeiros Diversos*|1112          |Contrato (não cumprimento, alteração, transferencia, irregularidade, rescisão, etc.)|Problemas com Contrato|M             |entre 21 a 30 anos   |29158038     |\n",
      "|2019          |1                   |1             |2019-01-25 15:42:34.000|3           |Sudeste|ES |2                    |Simples Consulta                       |58           |Consórcio de Motocicletas|Consórcios                     |1094          |Contrato (não cumprimento, alteração, transferencia, irregularidade, rescisão, etc.)|Problemas com Contrato|M             |entre 31 a 40 anos   |29135000     |\n",
      "+--------------+--------------------+--------------+-----------------------+------------+-------+---+---------------------+---------------------------------------+-------------+-------------------------+-------------------------------+--------------+------------------------------------------------------------------------------------+----------------------+--------------+---------------------+-------------+\n",
      "only showing top 3 rows\n",
      "\n"
     ]
    }
   ],
   "source": [
    "df = spark.read \\\n",
    "    .option(\"recursiveFileLookup\",True) \\\n",
    "    .option(\"header\",True) \\\n",
    "    .option(\"sep\",\",\") \\\n",
    "    .csv(\"/user/hadoop/datalake/reclamacoes/\")\n",
    "df.show(3, truncate=False)"
   ]
  },
  {
   "cell_type": "code",
   "execution_count": null,
   "id": "75843d0f-efb7-4954-b5e1-5b84dd9f8d5f",
   "metadata": {},
   "outputs": [],
   "source": []
  }
 ],
 "metadata": {
  "kernelspec": {
   "display_name": "Python 3 (ipykernel)",
   "language": "python",
   "name": "python3"
  },
  "language_info": {
   "codemirror_mode": {
    "name": "ipython",
    "version": 3
   },
   "file_extension": ".py",
   "mimetype": "text/x-python",
   "name": "python",
   "nbconvert_exporter": "python",
   "pygments_lexer": "ipython3",
   "version": "3.10.2"
  }
 },
 "nbformat": 4,
 "nbformat_minor": 5
}
